{
 "cells": [
  {
   "cell_type": "markdown",
   "metadata": {
    "id": "oy9Zwr6D-TUs"
   },
   "source": [
    "<a href= \"https://colab.research.google.com/github/Nkhanal2048/Artificial-Intelligence/blob/main/assignment_3/a3_sample_notebook.ipynb\" target=\"_parent\"><img src=\"https://colab.research.google.com/assets/colab-badge.svg\" alt=\"Open In Colab\"/></a>\n",
    "\n",
    "\\(\\^Be sure to update this button to point to your notebook instead of the sample notebook\\)"
   ]
  },
  {
   "cell_type": "code",
   "execution_count": 1,
   "metadata": {
    "id": "TBC1Ad4g-TUw"
   },
   "outputs": [],
   "source": [
    "# Imports section\n",
    "\n",
    "import pandas as pd\n",
    "import numpy as np\n",
    "import matplotlib.pyplot as plt\n",
    "from sklearn.linear_model import LinearRegression\n",
    "from sklearn.model_selection import train_test_split, cross_val_score\n",
    "from sklearn import linear_model\n",
    "from sklearn.preprocessing import PolynomialFeatures\n"
   ]
  },
  {
   "cell_type": "markdown",
   "metadata": {
    "id": "tc07hLgz-TUx"
   },
   "source": [
    "## Part 1. Loading the dataset"
   ]
  },
  {
   "cell_type": "code",
   "execution_count": 2,
   "metadata": {
    "colab": {
     "base_uri": "https://localhost:8080/"
    },
    "id": "cVjHLWOc-TUx",
    "outputId": "0f9749ae-a6ab-4c6a-a416-cafe51ddbe63"
   },
   "outputs": [
    {
     "name": "stdout",
     "output_type": "stream",
     "text": [
      "     Temperature °C  Mols KCL     Size nm^3\n",
      "0               469       647  6.244743e+05\n",
      "1               403       694  5.779610e+05\n",
      "2               302       975  6.196847e+05\n",
      "3               779       916  1.460449e+06\n",
      "4               901        18  4.325726e+04\n",
      "..              ...       ...           ...\n",
      "995             894       847  1.545661e+06\n",
      "996             327       982  6.737041e+05\n",
      "997             791       213  3.477543e+05\n",
      "998             769       553  8.684794e+05\n",
      "999             919       452  8.476413e+05\n",
      "\n",
      "[1000 rows x 3 columns]\n"
     ]
    }
   ],
   "source": [
    "\n",
    "\n",
    "# loading the dataset`\n",
    "dataset = pd.read_csv(\"science_data_large.csv\")\n",
    "print(dataset)\n"
   ]
  },
  {
   "cell_type": "markdown",
   "metadata": {
    "id": "m6Gt9s4tEL1m"
   },
   "source": [
    " Output the first 15 rows of the data"
   ]
  },
  {
   "cell_type": "code",
   "execution_count": 3,
   "metadata": {
    "colab": {
     "base_uri": "https://localhost:8080/",
     "height": 363
    },
    "id": "E9F3fUMXEOHv",
    "outputId": "25a63686-a9b4-49a3-91ea-58ff7b0fabcf"
   },
   "outputs": [
    {
     "data": {
      "text/html": [
       "<div>\n",
       "<style scoped>\n",
       "    .dataframe tbody tr th:only-of-type {\n",
       "        vertical-align: middle;\n",
       "    }\n",
       "\n",
       "    .dataframe tbody tr th {\n",
       "        vertical-align: top;\n",
       "    }\n",
       "\n",
       "    .dataframe thead th {\n",
       "        text-align: right;\n",
       "    }\n",
       "</style>\n",
       "<table border=\"1\" class=\"dataframe\">\n",
       "  <thead>\n",
       "    <tr style=\"text-align: right;\">\n",
       "      <th></th>\n",
       "      <th>Temperature °C</th>\n",
       "      <th>Mols KCL</th>\n",
       "      <th>Size nm^3</th>\n",
       "    </tr>\n",
       "  </thead>\n",
       "  <tbody>\n",
       "    <tr>\n",
       "      <td>0</td>\n",
       "      <td>469</td>\n",
       "      <td>647</td>\n",
       "      <td>6.244743e+05</td>\n",
       "    </tr>\n",
       "    <tr>\n",
       "      <td>1</td>\n",
       "      <td>403</td>\n",
       "      <td>694</td>\n",
       "      <td>5.779610e+05</td>\n",
       "    </tr>\n",
       "    <tr>\n",
       "      <td>2</td>\n",
       "      <td>302</td>\n",
       "      <td>975</td>\n",
       "      <td>6.196847e+05</td>\n",
       "    </tr>\n",
       "    <tr>\n",
       "      <td>3</td>\n",
       "      <td>779</td>\n",
       "      <td>916</td>\n",
       "      <td>1.460449e+06</td>\n",
       "    </tr>\n",
       "    <tr>\n",
       "      <td>4</td>\n",
       "      <td>901</td>\n",
       "      <td>18</td>\n",
       "      <td>4.325726e+04</td>\n",
       "    </tr>\n",
       "    <tr>\n",
       "      <td>5</td>\n",
       "      <td>545</td>\n",
       "      <td>637</td>\n",
       "      <td>7.124634e+05</td>\n",
       "    </tr>\n",
       "    <tr>\n",
       "      <td>6</td>\n",
       "      <td>660</td>\n",
       "      <td>519</td>\n",
       "      <td>7.006960e+05</td>\n",
       "    </tr>\n",
       "    <tr>\n",
       "      <td>7</td>\n",
       "      <td>143</td>\n",
       "      <td>869</td>\n",
       "      <td>2.718260e+05</td>\n",
       "    </tr>\n",
       "    <tr>\n",
       "      <td>8</td>\n",
       "      <td>89</td>\n",
       "      <td>461</td>\n",
       "      <td>8.919803e+04</td>\n",
       "    </tr>\n",
       "    <tr>\n",
       "      <td>9</td>\n",
       "      <td>294</td>\n",
       "      <td>776</td>\n",
       "      <td>4.770210e+05</td>\n",
       "    </tr>\n",
       "    <tr>\n",
       "      <td>10</td>\n",
       "      <td>991</td>\n",
       "      <td>117</td>\n",
       "      <td>2.441771e+05</td>\n",
       "    </tr>\n",
       "    <tr>\n",
       "      <td>11</td>\n",
       "      <td>307</td>\n",
       "      <td>781</td>\n",
       "      <td>5.006455e+05</td>\n",
       "    </tr>\n",
       "    <tr>\n",
       "      <td>12</td>\n",
       "      <td>206</td>\n",
       "      <td>70</td>\n",
       "      <td>3.145200e+04</td>\n",
       "    </tr>\n",
       "    <tr>\n",
       "      <td>13</td>\n",
       "      <td>437</td>\n",
       "      <td>599</td>\n",
       "      <td>5.390215e+05</td>\n",
       "    </tr>\n",
       "    <tr>\n",
       "      <td>14</td>\n",
       "      <td>566</td>\n",
       "      <td>75</td>\n",
       "      <td>9.185271e+04</td>\n",
       "    </tr>\n",
       "  </tbody>\n",
       "</table>\n",
       "</div>"
      ],
      "text/plain": [
       "    Temperature °C  Mols KCL     Size nm^3\n",
       "0              469       647  6.244743e+05\n",
       "1              403       694  5.779610e+05\n",
       "2              302       975  6.196847e+05\n",
       "3              779       916  1.460449e+06\n",
       "4              901        18  4.325726e+04\n",
       "5              545       637  7.124634e+05\n",
       "6              660       519  7.006960e+05\n",
       "7              143       869  2.718260e+05\n",
       "8               89       461  8.919803e+04\n",
       "9              294       776  4.770210e+05\n",
       "10             991       117  2.441771e+05\n",
       "11             307       781  5.006455e+05\n",
       "12             206        70  3.145200e+04\n",
       "13             437       599  5.390215e+05\n",
       "14             566        75  9.185271e+04"
      ]
     },
     "execution_count": 3,
     "metadata": {},
     "output_type": "execute_result"
    }
   ],
   "source": [
    "#printing 15 rows of data:\n",
    "dataset.head(15)"
   ]
  },
  {
   "cell_type": "markdown",
   "metadata": {
    "id": "sq_MUl1GFblE"
   },
   "source": [
    "Display a summary of the table information (number of datapoints, etc."
   ]
  },
  {
   "cell_type": "code",
   "execution_count": 4,
   "metadata": {
    "colab": {
     "base_uri": "https://localhost:8080/"
    },
    "id": "CrhJFbs6Ff0R",
    "outputId": "b956b6ac-154e-4350-a18d-0db9356a7fee"
   },
   "outputs": [
    {
     "name": "stdout",
     "output_type": "stream",
     "text": [
      "<class 'pandas.core.frame.DataFrame'>\n",
      "RangeIndex: 1000 entries, 0 to 999\n",
      "Data columns (total 3 columns):\n",
      "Temperature °C    1000 non-null int64\n",
      "Mols KCL          1000 non-null int64\n",
      "Size nm^3         1000 non-null float64\n",
      "dtypes: float64(1), int64(2)\n",
      "memory usage: 23.6 KB\n",
      "table summary \n",
      " None\n"
     ]
    }
   ],
   "source": [
    "print(\"table summary \\n\", dataset.info())"
   ]
  },
  {
   "cell_type": "markdown",
   "metadata": {
    "id": "7-I0qqxk-TUy"
   },
   "source": [
    "## Part 2. Splitting the dataset"
   ]
  },
  {
   "cell_type": "code",
   "execution_count": 5,
   "metadata": {
    "id": "mq0n1Wa4-TUy"
   },
   "outputs": [],
   "source": [
    "# Take the pandas dataset and split it into our features (X) and label (y)\n",
    "\n",
    "\n",
    "x = dataset[[\"Temperature °C\", \"Mols KCL\"]].to_numpy() \n",
    "y = dataset[\"Size nm^3\"].to_numpy()\n",
    "\n",
    "#using sklearn to split the features and labels into a training/test set.\n",
    "x_train, x_test, y_train, y_test = train_test_split(x, y, train_size = .90, random_state = 0)\n"
   ]
  },
  {
   "cell_type": "markdown",
   "metadata": {
    "id": "eD1vGP_J-TUz"
   },
   "source": [
    "## Part 3. Perform a Linear Regression"
   ]
  },
  {
   "cell_type": "code",
   "execution_count": 6,
   "metadata": {
    "colab": {
     "base_uri": "https://localhost:8080/"
    },
    "id": "BCAhy4I8-TUz",
    "outputId": "3a28fc2d-6a22-4bd0-f05c-635d088df487"
   },
   "outputs": [
    {
     "name": "stdout",
     "output_type": "stream",
     "text": [
      "prediction: [ 134891.57109752  566848.1770532  1241137.60975794  -24367.1696409\n",
      "  -70657.3340248   384956.44708746  467392.47066236  960873.69862144\n",
      "    8407.39619923   51611.35989487  838231.36519831 1232720.46674085\n",
      "  901563.3931183  -118835.20674597  188176.20244545 1158467.7057509\n",
      "  665263.26735435  560560.92590561  163940.53886357  469055.93661764\n",
      " 1419180.64745835  -84401.29716064  555956.53417346 1401489.68980634\n",
      "  450621.8221688  1161403.05700777   45784.96014151  408948.47482721\n",
      "  421868.97874553  645969.69402768  467893.44392697  208517.41869172\n",
      " 1438187.73449241  708330.20055877 1400047.62029314  711132.70221441\n",
      "  942380.06884206 1116186.8384737  1257396.19462681  189369.12027644\n",
      "   71374.08771584  870102.22808014   94087.37936383  407174.28131093\n",
      "  271473.01984826  388791.32041263  237873.60116061  790013.37060675\n",
      "  112125.67358907  512139.47602221  905252.99153208 -163237.6627926\n",
      " 1056768.59266956  757865.71816238  422587.22624213  838109.54727724\n",
      " 1168808.55676556  420476.72783278  562454.20876288 1196155.27165602\n",
      " 1141958.63424972 -205320.64929795 -193313.545068    882065.02954971\n",
      " -233968.28100031 1111316.74753909  125465.51340122  862352.1203292\n",
      "  495379.97656865 -260706.08232516  463075.95885281  636857.7605043\n",
      "  958770.10968217  514388.39855279  139911.11783352  874190.37529761\n",
      "  634698.83712449 1003517.17372194  536824.90063825  402129.82527471\n",
      " 1095143.98093098  752354.83621194  438989.75107231  175035.63703514\n",
      "  339707.01615308  -94234.2067607   749168.99832276  802198.96214839\n",
      "  767320.80736899   79090.92438656   72706.82329805  325614.2641341\n",
      "  424739.29883178   38884.61453832  264437.03738384 1344491.9443744\n",
      "  747405.89516655  321578.72277709  473270.08264618  772305.80675459]\n",
      "score: 0.8571870071495865\n",
      "coefficient: [ 863.58108791 1006.12741921]\n",
      "intercept: -400305.9133335327\n"
     ]
    }
   ],
   "source": [
    "\n",
    "#use slklearn to train a model on the training set \n",
    "reg = linear_model.LinearRegression()\n",
    "reg.fit(x_train, y_train)\n",
    "\n",
    "#create a sample datapoint and predict the output of that sample with the trained model\n",
    "print(f\"prediction: {reg.predict(x_test)}\")\n",
    "\n",
    "#report on the score for that mnodel in your own word(markdown, not code) explain what the score means \n",
    "print(f\"score: {reg.score(x_train, y_train)}\")\n",
    "\n",
    "#extract the coefficient and intercept from the model and write an equation for your h(x) using LaTex\n",
    "print(f\"coefficient: {reg.coef_}\")\n",
    "print(f\"intercept: {reg.intercept_}\")\n",
    "\n"
   ]
  },
  {
   "cell_type": "markdown",
   "metadata": {
    "id": "FRjNMrN4-TU0"
   },
   "source": [
    "Sample equation: $E = mc^2$"
   ]
  },
  {
   "cell_type": "markdown",
   "metadata": {
    "id": "D2T_daWK-TU0"
   },
   "source": [
    "## Part 4. Use Cross Validation"
   ]
  },
  {
   "cell_type": "code",
   "execution_count": 7,
   "metadata": {
    "colab": {
     "base_uri": "https://localhost:8080/"
    },
    "id": "MZVc22L5-TU1",
    "outputId": "cf51d7d6-49fc-4ec4-8770-46cbd3f9046e"
   },
   "outputs": [
    {
     "name": "stdout",
     "output_type": "stream",
     "text": [
      "0.81 accuracy with a standard deviation of 0.14\n"
     ]
    }
   ],
   "source": [
    "\n",
    "#use the cross_val_score to repeat your experiment across many shuffles of the data \n",
    "\n",
    "scores = cross_val_score(reg, x_train, y_train, cv = 100)\n",
    "\n",
    "print(\"%0.2f accuracy with a standard deviation of %0.2f\"% (scores.mean(), scores.std()))\n"
   ]
  },
  {
   "cell_type": "markdown",
   "metadata": {
    "id": "eGYNnjhYHkQG"
   },
   "source": [
    "The above result shows that when we shuffles the data 100 times, the accuracy of the prediction becomes 81% with tha standard deviation of 14."
   ]
  },
  {
   "cell_type": "markdown",
   "metadata": {
    "id": "7eNz3Ij--TU1"
   },
   "source": [
    "## Part 5. Using Polynomial Regression"
   ]
  },
  {
   "cell_type": "code",
   "execution_count": 8,
   "metadata": {
    "colab": {
     "base_uri": "https://localhost:8080/"
    },
    "id": "4z_pZUBq-TU2",
    "outputId": "61ece0e3-2d82-4051-82a5-9aaa5411998d"
   },
   "outputs": [
    {
     "name": "stdout",
     "output_type": "stream",
     "text": [
      "score:1.0\n",
      "coefficient:[ 0.00000000e+00  1.20000000e+01 -1.10386683e-07 -1.20945065e-11\n",
      "  2.00000000e+00  2.85714287e-02]\n",
      "intercept:1.3903132639825344e-05\n",
      "predict:[ 170568.42856638  287802.71428313 1577891.31429028   45507.11427744\n",
      "   35586.25713603  317629.85713491  321294.99999662 1073784.02856462\n",
      "   52154.25713373   96892.59999191  811164.60000923 1564196.45715278\n",
      "  992136.59999414   48014.71428717  148395.45713314 1417962.59999944\n",
      "  513347.11429179  383617.02856592   91852.71429248  401612.42856446\n",
      " 1926272.82860005   57363.42857504  229204.02857082 1888864.4571703\n",
      "  410720.59999196 1431661.60000515   61854.02856167  335937.85713753\n",
      "  359614.02856523  577961.0285707   431400.599992    111047.45713327\n",
      " 1972127.40002758  723568.11427885 1884801.02859917  664790.60000119\n",
      " 1043505.60000386 1346573.71429276 1603235.31430218   14894.71429826\n",
      "   68900.31427566  673704.11431238   75092.02856121  365193.39999165\n",
      "  263859.85713461  237863.31428503  141099.45714652  718007.42858054\n",
      "   82132.7142928   115613.25714676 1001908.25713912   19378.82856867\n",
      " 1190948.45715914  778384.31428264  135712.11428979  863716.02856139\n",
      " 1387347.00002321  335544.99999495  415563.4285717  1486659.11428612\n",
      " 1380546.85713995   13464.02858317   26066.31429159  851571.31429958\n",
      "    9974.25714418 1303041.11430203  110457.25714728  901128.11428984\n",
      "  300269.8285712     7504.82857464  179392.11428786  408676.45713654\n",
      " 1084892.99999704  335550.42856736   82828.00000733  934857.25714497\n",
      "  631226.39999207 1156088.4571403   360768.257138    160466.8571409\n",
      " 1242194.42859223  756182.31427604  374084.4571364   196465.02856605\n",
      "  226740.42856392   30817.11427975  758932.71427637  789596.31427493\n",
      "  773750.25713309   32629.85715451   89116.45713349   81908.45715026\n",
      "  387182.25713452   60067.11427606  249956.5999952  1785532.02858555\n",
      "  489186.25716199  282796.45713398  311881.25714032  680894.25715214]\n"
     ]
    }
   ],
   "source": [
    "\n",
    "#using the polynomialFeatures library pertform another regression on an augmented dataset of degree 2\n",
    "poly = PolynomialFeatures(2)\n",
    "x_train = poly.fit_transform(x_train)\n",
    "x_test = poly.fit_transform(x_test)\n",
    "model = linear_model.LinearRegression()\n",
    "model.fit(x_train, y_train)\n",
    "print(f\"score:{model.score(x_train, y_train)}\")\n",
    "print(f\"coefficient:{model.coef_}\")\n",
    "print(f\"intercept:{model.intercept_}\")\n",
    "\n",
    "#report on the matrices and output the resultant equation as you did in part 3.\n",
    "print(f\"predict:{model.predict(x_test)}\")"
   ]
  },
  {
   "cell_type": "markdown",
   "metadata": {
    "id": "CklkWv7bIWun"
   },
   "source": [
    "From the above result, we can see when we use the polynomial regression our score increases to 100%.\n",
    "This shows that we have polynomial distribution.\n",
    "It was done by first converting the polynomial equation to linnear equation. \n",
    "The general equation is, \n",
    "y = x0+b1*x1+b2*(x2)^2 +b3*(x3)^3 +.......+bn(xn)^n"
   ]
  }
 ],
 "metadata": {
  "colab": {
   "name": "a3_sample_notebook.ipynb",
   "provenance": []
  },
  "kernelspec": {
   "display_name": "Python 3",
   "language": "python",
   "name": "python3"
  },
  "language_info": {
   "codemirror_mode": {
    "name": "ipython",
    "version": 3
   },
   "file_extension": ".py",
   "mimetype": "text/x-python",
   "name": "python",
   "nbconvert_exporter": "python",
   "pygments_lexer": "ipython3",
   "version": "3.7.4"
  }
 },
 "nbformat": 4,
 "nbformat_minor": 1
}
