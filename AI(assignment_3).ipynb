{
 "cells": [
  {
   "cell_type": "code",
   "execution_count": 4,
   "metadata": {
    "scrolled": true
   },
   "outputs": [
    {
     "name": "stdout",
     "output_type": "stream",
     "text": [
      "Requirement already satisfied: pandas in /opt/anaconda3/lib/python3.7/site-packages (0.25.1)\r\n",
      "Requirement already satisfied: numpy>=1.13.3 in /opt/anaconda3/lib/python3.7/site-packages (from pandas) (1.17.2)\r\n",
      "Requirement already satisfied: pytz>=2017.2 in /opt/anaconda3/lib/python3.7/site-packages (from pandas) (2019.3)\r\n",
      "Requirement already satisfied: python-dateutil>=2.6.1 in /opt/anaconda3/lib/python3.7/site-packages (from pandas) (2.8.0)\r\n",
      "Requirement already satisfied: six>=1.5 in /opt/anaconda3/lib/python3.7/site-packages (from python-dateutil>=2.6.1->pandas) (1.12.0)\r\n"
     ]
    }
   ],
   "source": [
    "#install panadas in jupyter notebook\n",
    "!pip install pandas\n"
   ]
  },
  {
   "cell_type": "code",
   "execution_count": 5,
   "metadata": {},
   "outputs": [],
   "source": [
    "#import modules\n",
    "\n",
    "import pandas as pd\n",
    "import numpy as np\n",
    "import matplotlib.pyplot as plt\n",
    "from sklearn.linear_model import LinearRegression\n",
    "from sklearn.model_selection import train_test_split, cross_val_score\n",
    "from sklearn import linear_model\n",
    "from sklearn.preprocessing import PolynomialFeatures"
   ]
  },
  {
   "cell_type": "code",
   "execution_count": 6,
   "metadata": {
    "scrolled": true
   },
   "outputs": [
    {
     "name": "stdout",
     "output_type": "stream",
     "text": [
      "     Temperature °C  Mols KCL     Size nm^3\n",
      "0               469       647  6.244743e+05\n",
      "1               403       694  5.779610e+05\n",
      "2               302       975  6.196847e+05\n",
      "3               779       916  1.460449e+06\n",
      "4               901        18  4.325726e+04\n",
      "..              ...       ...           ...\n",
      "995             894       847  1.545661e+06\n",
      "996             327       982  6.737041e+05\n",
      "997             791       213  3.477543e+05\n",
      "998             769       553  8.684794e+05\n",
      "999             919       452  8.476413e+05\n",
      "\n",
      "[1000 rows x 3 columns]\n"
     ]
    }
   ],
   "source": [
    "#loading the dataset`\n",
    "dataset = pd.read_csv(\"science_data_large.csv\")\n",
    "print(dataset)\n"
   ]
  },
  {
   "cell_type": "code",
   "execution_count": 7,
   "metadata": {},
   "outputs": [
    {
     "data": {
      "text/html": [
       "<div>\n",
       "<style scoped>\n",
       "    .dataframe tbody tr th:only-of-type {\n",
       "        vertical-align: middle;\n",
       "    }\n",
       "\n",
       "    .dataframe tbody tr th {\n",
       "        vertical-align: top;\n",
       "    }\n",
       "\n",
       "    .dataframe thead th {\n",
       "        text-align: right;\n",
       "    }\n",
       "</style>\n",
       "<table border=\"1\" class=\"dataframe\">\n",
       "  <thead>\n",
       "    <tr style=\"text-align: right;\">\n",
       "      <th></th>\n",
       "      <th>Temperature °C</th>\n",
       "      <th>Mols KCL</th>\n",
       "      <th>Size nm^3</th>\n",
       "    </tr>\n",
       "  </thead>\n",
       "  <tbody>\n",
       "    <tr>\n",
       "      <td>0</td>\n",
       "      <td>469</td>\n",
       "      <td>647</td>\n",
       "      <td>6.244743e+05</td>\n",
       "    </tr>\n",
       "    <tr>\n",
       "      <td>1</td>\n",
       "      <td>403</td>\n",
       "      <td>694</td>\n",
       "      <td>5.779610e+05</td>\n",
       "    </tr>\n",
       "    <tr>\n",
       "      <td>2</td>\n",
       "      <td>302</td>\n",
       "      <td>975</td>\n",
       "      <td>6.196847e+05</td>\n",
       "    </tr>\n",
       "    <tr>\n",
       "      <td>3</td>\n",
       "      <td>779</td>\n",
       "      <td>916</td>\n",
       "      <td>1.460449e+06</td>\n",
       "    </tr>\n",
       "    <tr>\n",
       "      <td>4</td>\n",
       "      <td>901</td>\n",
       "      <td>18</td>\n",
       "      <td>4.325726e+04</td>\n",
       "    </tr>\n",
       "    <tr>\n",
       "      <td>5</td>\n",
       "      <td>545</td>\n",
       "      <td>637</td>\n",
       "      <td>7.124634e+05</td>\n",
       "    </tr>\n",
       "    <tr>\n",
       "      <td>6</td>\n",
       "      <td>660</td>\n",
       "      <td>519</td>\n",
       "      <td>7.006960e+05</td>\n",
       "    </tr>\n",
       "    <tr>\n",
       "      <td>7</td>\n",
       "      <td>143</td>\n",
       "      <td>869</td>\n",
       "      <td>2.718260e+05</td>\n",
       "    </tr>\n",
       "    <tr>\n",
       "      <td>8</td>\n",
       "      <td>89</td>\n",
       "      <td>461</td>\n",
       "      <td>8.919803e+04</td>\n",
       "    </tr>\n",
       "    <tr>\n",
       "      <td>9</td>\n",
       "      <td>294</td>\n",
       "      <td>776</td>\n",
       "      <td>4.770210e+05</td>\n",
       "    </tr>\n",
       "  </tbody>\n",
       "</table>\n",
       "</div>"
      ],
      "text/plain": [
       "   Temperature °C  Mols KCL     Size nm^3\n",
       "0             469       647  6.244743e+05\n",
       "1             403       694  5.779610e+05\n",
       "2             302       975  6.196847e+05\n",
       "3             779       916  1.460449e+06\n",
       "4             901        18  4.325726e+04\n",
       "5             545       637  7.124634e+05\n",
       "6             660       519  7.006960e+05\n",
       "7             143       869  2.718260e+05\n",
       "8              89       461  8.919803e+04\n",
       "9             294       776  4.770210e+05"
      ]
     },
     "execution_count": 7,
     "metadata": {},
     "output_type": "execute_result"
    }
   ],
   "source": [
    "#printing 10 rows of data:\n",
    "dataset.head(10)"
   ]
  },
  {
   "cell_type": "code",
   "execution_count": 12,
   "metadata": {},
   "outputs": [
    {
     "data": {
      "text/html": [
       "<div>\n",
       "<style scoped>\n",
       "    .dataframe tbody tr th:only-of-type {\n",
       "        vertical-align: middle;\n",
       "    }\n",
       "\n",
       "    .dataframe tbody tr th {\n",
       "        vertical-align: top;\n",
       "    }\n",
       "\n",
       "    .dataframe thead th {\n",
       "        text-align: right;\n",
       "    }\n",
       "</style>\n",
       "<table border=\"1\" class=\"dataframe\">\n",
       "  <thead>\n",
       "    <tr style=\"text-align: right;\">\n",
       "      <th></th>\n",
       "      <th>Temperature °C</th>\n",
       "      <th>Mols KCL</th>\n",
       "      <th>Size nm^3</th>\n",
       "    </tr>\n",
       "  </thead>\n",
       "  <tbody>\n",
       "    <tr>\n",
       "      <td>990</td>\n",
       "      <td>841</td>\n",
       "      <td>48</td>\n",
       "      <td>9.089383e+04</td>\n",
       "    </tr>\n",
       "    <tr>\n",
       "      <td>991</td>\n",
       "      <td>998</td>\n",
       "      <td>655</td>\n",
       "      <td>1.331614e+06</td>\n",
       "    </tr>\n",
       "    <tr>\n",
       "      <td>992</td>\n",
       "      <td>436</td>\n",
       "      <td>543</td>\n",
       "      <td>4.871523e+05</td>\n",
       "    </tr>\n",
       "    <tr>\n",
       "      <td>993</td>\n",
       "      <td>311</td>\n",
       "      <td>265</td>\n",
       "      <td>1.705684e+05</td>\n",
       "    </tr>\n",
       "    <tr>\n",
       "      <td>994</td>\n",
       "      <td>21</td>\n",
       "      <td>73</td>\n",
       "      <td>3.470257e+03</td>\n",
       "    </tr>\n",
       "    <tr>\n",
       "      <td>995</td>\n",
       "      <td>894</td>\n",
       "      <td>847</td>\n",
       "      <td>1.545661e+06</td>\n",
       "    </tr>\n",
       "    <tr>\n",
       "      <td>996</td>\n",
       "      <td>327</td>\n",
       "      <td>982</td>\n",
       "      <td>6.737041e+05</td>\n",
       "    </tr>\n",
       "    <tr>\n",
       "      <td>997</td>\n",
       "      <td>791</td>\n",
       "      <td>213</td>\n",
       "      <td>3.477543e+05</td>\n",
       "    </tr>\n",
       "    <tr>\n",
       "      <td>998</td>\n",
       "      <td>769</td>\n",
       "      <td>553</td>\n",
       "      <td>8.684794e+05</td>\n",
       "    </tr>\n",
       "    <tr>\n",
       "      <td>999</td>\n",
       "      <td>919</td>\n",
       "      <td>452</td>\n",
       "      <td>8.476413e+05</td>\n",
       "    </tr>\n",
       "  </tbody>\n",
       "</table>\n",
       "</div>"
      ],
      "text/plain": [
       "     Temperature °C  Mols KCL     Size nm^3\n",
       "990             841        48  9.089383e+04\n",
       "991             998       655  1.331614e+06\n",
       "992             436       543  4.871523e+05\n",
       "993             311       265  1.705684e+05\n",
       "994              21        73  3.470257e+03\n",
       "995             894       847  1.545661e+06\n",
       "996             327       982  6.737041e+05\n",
       "997             791       213  3.477543e+05\n",
       "998             769       553  8.684794e+05\n",
       "999             919       452  8.476413e+05"
      ]
     },
     "execution_count": 12,
     "metadata": {},
     "output_type": "execute_result"
    }
   ],
   "source": [
    "#printing 10 last rows of data:\n",
    "dataset.tail(10)"
   ]
  },
  {
   "cell_type": "code",
   "execution_count": 8,
   "metadata": {},
   "outputs": [],
   "source": [
    "#part 2: \n",
    "#take the dataset and splitting into x and y data splitting\n",
    "X = dataset[[\"Temperature °C\", \"Mols KCL\"]].to_numpy()\n",
    "Y = dataset[\"Size nm^3\"].to_numpy()\n",
    "#using sklearn to split the features and labels into a training/test set. \n",
    "X_train, X_test, Y_train, Y_test = train_test_split(X, Y, train_size = .90, random_state = 0)"
   ]
  },
  {
   "cell_type": "code",
   "execution_count": null,
   "metadata": {},
   "outputs": [],
   "source": []
  },
  {
   "cell_type": "code",
   "execution_count": 9,
   "metadata": {},
   "outputs": [
    {
     "name": "stdout",
     "output_type": "stream",
     "text": [
      "prediction: [ 134891.57109752  566848.1770532  1241137.60975794  -24367.1696409\n",
      "  -70657.3340248   384956.44708746  467392.47066236  960873.69862144\n",
      "    8407.39619923   51611.35989487  838231.36519831 1232720.46674085\n",
      "  901563.3931183  -118835.20674597  188176.20244545 1158467.7057509\n",
      "  665263.26735435  560560.92590561  163940.53886357  469055.93661764\n",
      " 1419180.64745835  -84401.29716064  555956.53417346 1401489.68980634\n",
      "  450621.8221688  1161403.05700777   45784.96014151  408948.47482721\n",
      "  421868.97874553  645969.69402768  467893.44392697  208517.41869172\n",
      " 1438187.73449241  708330.20055877 1400047.62029314  711132.70221441\n",
      "  942380.06884206 1116186.8384737  1257396.19462681  189369.12027644\n",
      "   71374.08771584  870102.22808014   94087.37936383  407174.28131093\n",
      "  271473.01984826  388791.32041263  237873.60116061  790013.37060675\n",
      "  112125.67358907  512139.47602221  905252.99153208 -163237.6627926\n",
      " 1056768.59266956  757865.71816238  422587.22624213  838109.54727724\n",
      " 1168808.55676556  420476.72783278  562454.20876288 1196155.27165602\n",
      " 1141958.63424972 -205320.64929795 -193313.545068    882065.02954971\n",
      " -233968.28100031 1111316.74753909  125465.51340122  862352.1203292\n",
      "  495379.97656865 -260706.08232516  463075.95885281  636857.7605043\n",
      "  958770.10968217  514388.39855279  139911.11783352  874190.37529761\n",
      "  634698.83712449 1003517.17372194  536824.90063825  402129.82527471\n",
      " 1095143.98093098  752354.83621194  438989.75107231  175035.63703514\n",
      "  339707.01615308  -94234.2067607   749168.99832276  802198.96214839\n",
      "  767320.80736899   79090.92438656   72706.82329805  325614.2641341\n",
      "  424739.29883178   38884.61453832  264437.03738384 1344491.9443744\n",
      "  747405.89516655  321578.72277709  473270.08264618  772305.80675459]\n",
      "score: 0.8571870071495865\n",
      "coefficient: [ 863.58108791 1006.12741921]\n",
      "intercept: -400305.9133335327\n"
     ]
    }
   ],
   "source": [
    "#part 3: perform a linear regression\n",
    "#use slklearn to train a model on the training set \n",
    "reg = linear_model.LinearRegression()\n",
    "reg.fit(X_train, Y_train)\n",
    "#create a sample datapoint and predict the output of that sample with the trained model\n",
    "print(f\"prediction: {reg.predict(X_test)}\")\n",
    "#report on the score for that mnodel in your own word(markdown, not code) explain what the score means \n",
    "print(f\"score: {reg.score(X_train, Y_train)}\")\n",
    "#extract the coefficient and intercept from the model and write an equation for your h(x) using LaTex\n",
    "print(f\"coefficient: {reg.coef_}\")\n",
    "print(f\"intercept: {reg.intercept_}\")\n",
    "\n",
    "\n"
   ]
  },
  {
   "cell_type": "code",
   "execution_count": 10,
   "metadata": {},
   "outputs": [
    {
     "name": "stdout",
     "output_type": "stream",
     "text": [
      "0.81 accuracy with a standard deviation of 0.14\n"
     ]
    }
   ],
   "source": [
    "#part 4: use cross validation\n",
    "#use the cross_val_score to repeat your experiment across many shuffles of the data \n",
    "scores = cross_val_score(reg, X_train, Y_train, cv = 100)\n",
    "print(\"%0.2f accuracy with a standard deviation of %0.2f\"% (scores.mean(), scores.std()))\n",
    "#report on their finding and their significance"
   ]
  },
  {
   "cell_type": "code",
   "execution_count": null,
   "metadata": {},
   "outputs": [],
   "source": [
    "# the above results shows that when we shuffles the data 100 times, the accuracy\n",
    "#of the prediction becomes 83% with the standard deviation of 14."
   ]
  },
  {
   "cell_type": "code",
   "execution_count": 11,
   "metadata": {},
   "outputs": [
    {
     "name": "stdout",
     "output_type": "stream",
     "text": [
      "score:1.0\n",
      "coefficient:[ 0.00000000e+00  1.20000000e+01 -1.10386683e-07 -1.20945065e-11\n",
      "  2.00000000e+00  2.85714287e-02]\n",
      "intercept:1.3903132639825344e-05\n",
      "predict:[ 170568.42856638  287802.71428313 1577891.31429028   45507.11427744\n",
      "   35586.25713603  317629.85713491  321294.99999662 1073784.02856462\n",
      "   52154.25713373   96892.59999191  811164.60000923 1564196.45715278\n",
      "  992136.59999414   48014.71428717  148395.45713314 1417962.59999944\n",
      "  513347.11429179  383617.02856592   91852.71429248  401612.42856446\n",
      " 1926272.82860005   57363.42857504  229204.02857082 1888864.4571703\n",
      "  410720.59999196 1431661.60000515   61854.02856167  335937.85713753\n",
      "  359614.02856523  577961.0285707   431400.599992    111047.45713327\n",
      " 1972127.40002758  723568.11427885 1884801.02859917  664790.60000119\n",
      " 1043505.60000386 1346573.71429276 1603235.31430218   14894.71429826\n",
      "   68900.31427566  673704.11431238   75092.02856121  365193.39999165\n",
      "  263859.85713461  237863.31428503  141099.45714652  718007.42858054\n",
      "   82132.7142928   115613.25714676 1001908.25713912   19378.82856867\n",
      " 1190948.45715914  778384.31428264  135712.11428979  863716.02856139\n",
      " 1387347.00002321  335544.99999495  415563.4285717  1486659.11428612\n",
      " 1380546.85713995   13464.02858317   26066.31429159  851571.31429958\n",
      "    9974.25714418 1303041.11430203  110457.25714728  901128.11428984\n",
      "  300269.8285712     7504.82857464  179392.11428786  408676.45713654\n",
      " 1084892.99999704  335550.42856736   82828.00000733  934857.25714497\n",
      "  631226.39999207 1156088.4571403   360768.257138    160466.8571409\n",
      " 1242194.42859223  756182.31427604  374084.4571364   196465.02856605\n",
      "  226740.42856392   30817.11427975  758932.71427637  789596.31427493\n",
      "  773750.25713309   32629.85715451   89116.45713349   81908.45715026\n",
      "  387182.25713452   60067.11427606  249956.5999952  1785532.02858555\n",
      "  489186.25716199  282796.45713398  311881.25714032  680894.25715214]\n"
     ]
    }
   ],
   "source": [
    "#part 5: Using polynnomial Regression\n",
    "#using the polynomialFeatures library pertform another regression on an augmented dataset of degree 2\n",
    "poly = PolynomialFeatures(2)\n",
    "X_train = poly.fit_transform(X_train)\n",
    "X_test = poly.fit_transform(X_test)\n",
    "model = linear_model.LinearRegression()\n",
    "model.fit(X_train, Y_train)\n",
    "print(f\"score:{model.score(X_train, Y_train)}\")\n",
    "print(f\"coefficient:{model.coef_}\")\n",
    "print(f\"intercept:{model.intercept_}\")\n",
    "#report on the matrices and output the resultant equation as you did in part 3.\n",
    "print(f\"predict:{model.predict(X_test)}\")"
   ]
  },
  {
   "cell_type": "code",
   "execution_count": null,
   "metadata": {},
   "outputs": [],
   "source": [
    "#From the above output, we can say if we use the polynomial regression, our score \n",
    "#increases to 100%, which shows that we have polynomial type of distribiution.\n"
   ]
  }
 ],
 "metadata": {
  "kernelspec": {
   "display_name": "Python 3",
   "language": "python",
   "name": "python3"
  },
  "language_info": {
   "codemirror_mode": {
    "name": "ipython",
    "version": 3
   },
   "file_extension": ".py",
   "mimetype": "text/x-python",
   "name": "python",
   "nbconvert_exporter": "python",
   "pygments_lexer": "ipython3",
   "version": "3.7.4"
  }
 },
 "nbformat": 4,
 "nbformat_minor": 2
}
