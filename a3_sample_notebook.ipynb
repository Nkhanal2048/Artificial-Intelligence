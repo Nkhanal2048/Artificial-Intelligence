{
  "cells": [
    {
      "cell_type": "markdown",
      "metadata": {
        "id": "view-in-github",
        "colab_type": "text"
      },
      "source": [
        "<a href=\"https://colab.research.google.com/github/Nkhanal2048/Artificial-Intelligence/blob/main/a3_sample_notebook.ipynb\" target=\"_parent\"><img src=\"https://colab.research.google.com/assets/colab-badge.svg\" alt=\"Open In Colab\"/></a>"
      ]
    },
    {
      "cell_type": "markdown",
      "metadata": {
        "id": "4k8xNZOM7Q_Y"
      },
      "source": [
        "<a href=\"https://colab.research.google.com/github/profmcnich/example_notebook/blob/main/a3_sample_notebook.ipynb\" target=\"_parent\"><img src=\"https://colab.research.google.com/assets/colab-badge.svg\" alt=\"Open In Colab\"/></a>\n",
        "\n",
        "\\(\\^Be sure to update this button to point to your notebook instead of the sample notebook\\)"
      ]
    },
    {
      "cell_type": "code",
      "execution_count": null,
      "metadata": {
        "id": "EJNKNT8J7Q_c"
      },
      "outputs": [],
      "source": [
        "# Imports section\n",
        "\n",
        "import pandas as pd\n",
        "import numpy as np\n",
        "import matplotlib.pyplot as plt\n",
        "from sklearn.linear_model import LinearRegression\n",
        "from sklearn.model_selection import train_test_split, cross_val_score\n",
        "from sklearn import linear_model\n",
        "from sklearn.preprocessing import PolynomialFeatures\n"
      ]
    },
    {
      "cell_type": "markdown",
      "metadata": {
        "id": "BgHMpUvN7Q_d"
      },
      "source": [
        "## Part 1. Loading the dataset"
      ]
    },
    {
      "cell_type": "code",
      "source": [
        "dataset = pd.read_csv(\"science_data_large.csv\") \n",
        "print(dataset)"
      ],
      "metadata": {
        "id": "uFpytAye7yFa"
      },
      "execution_count": null,
      "outputs": []
    },
    {
      "cell_type": "markdown",
      "source": [
        "Output the first 15 rows of the data"
      ],
      "metadata": {
        "id": "YEorhS9rEEPD"
      }
    },
    {
      "cell_type": "code",
      "source": [
        "dataset.head(15)\n"
      ],
      "metadata": {
        "id": "DsHXovPOEFgI"
      },
      "execution_count": null,
      "outputs": []
    },
    {
      "cell_type": "markdown",
      "source": [
        "Display a summary of the table information (number of datapoints, etc.)\n"
      ],
      "metadata": {
        "id": "gsE03gN0EM_D"
      }
    },
    {
      "cell_type": "code",
      "source": [
        "print(\"summary of dataset \\n\", dataset.info())"
      ],
      "metadata": {
        "id": "ClOCPdKYEdfM"
      },
      "execution_count": null,
      "outputs": []
    },
    {
      "cell_type": "markdown",
      "source": [
        "# New Section"
      ],
      "metadata": {
        "id": "nItI-oydE7KT"
      }
    },
    {
      "cell_type": "code",
      "source": [
        ""
      ],
      "metadata": {
        "id": "AGXFjFBkEOC3"
      },
      "execution_count": null,
      "outputs": []
    },
    {
      "cell_type": "markdown",
      "source": [
        ""
      ],
      "metadata": {
        "id": "QoUIlbMnEuB7"
      }
    },
    {
      "cell_type": "markdown",
      "metadata": {
        "id": "UmkqVlIW7Q_f"
      },
      "source": [
        "## Part 2. Splitting the dataset"
      ]
    },
    {
      "cell_type": "markdown",
      "source": [
        "take the dataset and splitting into x and y data splitting \n"
      ],
      "metadata": {
        "id": "3tMFLiunAGRc"
      }
    },
    {
      "cell_type": "code",
      "source": [
        "X = dataset[[\"Temperature °C\", \"Mols KCL\"]].to_numpy() \n",
        "Y = dataset[\"Size nm^3\"].to_numpy()\n"
      ],
      "metadata": {
        "id": "GNcltPfLAOEe"
      },
      "execution_count": null,
      "outputs": []
    },
    {
      "cell_type": "markdown",
      "source": [
        "using sklearn to split the features and labels into a training/test set."
      ],
      "metadata": {
        "id": "Go2s7FXrAWSc"
      }
    },
    {
      "cell_type": "code",
      "source": [
        "X_train, X_test, Y_train, Y_test = train_test_split(X, Y, train_size = .90, random_state = 0)\n"
      ],
      "metadata": {
        "id": "CpjHU-mNAd7q"
      },
      "execution_count": null,
      "outputs": []
    },
    {
      "cell_type": "markdown",
      "metadata": {
        "id": "LmEGQH6i7Q_f"
      },
      "source": [
        "## Part 3. Perform a Linear Regression"
      ]
    },
    {
      "cell_type": "markdown",
      "source": [
        "Use sklearn to train a model on the training set"
      ],
      "metadata": {
        "id": "KllUVTKl-Ghz"
      }
    },
    {
      "cell_type": "code",
      "source": [
        "reg = linear_model.LinearRegression()\n",
        "reg.fit(X_train, Y_train)\n"
      ],
      "metadata": {
        "id": "CHEDWlKt-IaX"
      },
      "execution_count": null,
      "outputs": []
    },
    {
      "cell_type": "markdown",
      "source": [
        "create a sample datapoint and predict the output of that sample with the trained model"
      ],
      "metadata": {
        "id": "84zpFA6M-max"
      }
    },
    {
      "cell_type": "code",
      "source": [
        "print(f\"prediction: {reg.predict(X_test)}\")"
      ],
      "metadata": {
        "id": "mI_AK1-Z-uMO"
      },
      "execution_count": null,
      "outputs": []
    },
    {
      "cell_type": "markdown",
      "source": [
        "Report on the score for that mnodel in your own words(markdown, not code) explain what the score means. "
      ],
      "metadata": {
        "id": "ixBS_YJB-0Wu"
      }
    },
    {
      "cell_type": "code",
      "source": [
        "print(f\"score: {reg.score(X_train, Y_train)}\")"
      ],
      "metadata": {
        "id": "olx3S_zH_Mw_"
      },
      "execution_count": null,
      "outputs": []
    },
    {
      "cell_type": "markdown",
      "source": [
        "extract the coefficient and intercept from the model and write an equation for your h(x) using LaTex."
      ],
      "metadata": {
        "id": "SsBcp6_L_Vy0"
      }
    },
    {
      "cell_type": "code",
      "source": [
        "print(f\"coefficient: {reg.coef_}\")\n",
        "print(f\"intercept: {reg.intercept_}\")\n",
        "\n"
      ],
      "metadata": {
        "id": "2ZdokWz1_ZhG"
      },
      "execution_count": null,
      "outputs": []
    },
    {
      "cell_type": "markdown",
      "metadata": {
        "id": "UTNaMPEV7Q_h"
      },
      "source": [
        "Sample equation: $E = mc^2$"
      ]
    },
    {
      "cell_type": "markdown",
      "metadata": {
        "id": "FIvhiNpi7Q_h"
      },
      "source": [
        "## Part 4. Use Cross Validation"
      ]
    },
    {
      "cell_type": "markdown",
      "source": [
        "Use the cross_val_score function to repeat your experiment across many shuffles of the data\n"
      ],
      "metadata": {
        "id": "vsYiE6PoA0BC"
      }
    },
    {
      "cell_type": "code",
      "source": [
        "scores = cross_val_score(reg, X_train, Y_train, cv = 100)\n",
        "print(\"%0.2f accuracy with a standard deviation of %0.2f\"% (scores.mean(), scores.std()))\n"
      ],
      "metadata": {
        "id": "bVfjz5cUA9rj"
      },
      "execution_count": null,
      "outputs": []
    },
    {
      "cell_type": "markdown",
      "source": [
        "Report on their finding and their significance"
      ],
      "metadata": {
        "id": "uYBl-DEwBOn4"
      }
    },
    {
      "cell_type": "markdown",
      "metadata": {
        "id": "2uV_6l6o7Q_i"
      },
      "source": [
        "## Part 5. Using Polynomial Regression"
      ]
    },
    {
      "cell_type": "markdown",
      "source": [
        "Using the PolynomialFeatures library perform another regression on an augmented dataset of degree 2\n"
      ],
      "metadata": {
        "id": "QmHbBggaBpZG"
      }
    },
    {
      "cell_type": "code",
      "source": [
        "poly = PolynomialFeatures(2)\n",
        "X_train = poly.fit_transform(X_train)\n",
        "X_test = poly.fit_transform(X_test)\n",
        "model = linear_model.LinearRegression()\n",
        "model.fit(X_train, Y_train)\n",
        "print(f\"score:{model.score(X_train, Y_train)}\")\n",
        "print(f\"coefficient:{model.coef_}\")\n",
        "print(f\"intercept:{model.intercept_}\")"
      ],
      "metadata": {
        "id": "hPKWpC92BqgY"
      },
      "execution_count": null,
      "outputs": []
    },
    {
      "cell_type": "markdown",
      "source": [
        "report on the matrices and output the resultant equation as you did in part 3."
      ],
      "metadata": {
        "id": "P8YLkikfB4m2"
      }
    },
    {
      "cell_type": "code",
      "source": [
        "print(f\"predict:{model.predict(X_test)}\")"
      ],
      "metadata": {
        "id": "SV5PZ3oWC7aR"
      },
      "execution_count": null,
      "outputs": []
    },
    {
      "cell_type": "markdown",
      "source": [
        "From the above output, we can say if we use the polynomial regression, our score increases to 100%, which shows that we have polynomial type of distribution.\n",
        "it was done by 1st converting the polunomial equation to linear equation.\n",
        "the general form of the equation is: \n",
        " Y = x0 + b1 * x1 + b2 * (x2)^2 +b3 * (x3)^3 +……..+bn * (xn)^n\n"
      ],
      "metadata": {
        "id": "IO8HdQa2DAuV"
      }
    }
  ],
  "metadata": {
    "kernelspec": {
      "display_name": "Python 3",
      "language": "python",
      "name": "python3"
    },
    "language_info": {
      "codemirror_mode": {
        "name": "ipython",
        "version": 3
      },
      "file_extension": ".py",
      "mimetype": "text/x-python",
      "name": "python",
      "nbconvert_exporter": "python",
      "pygments_lexer": "ipython3",
      "version": "3.7.4"
    },
    "colab": {
      "name": "a3_sample_notebook.ipynb",
      "provenance": [],
      "include_colab_link": true
    }
  },
  "nbformat": 4,
  "nbformat_minor": 0
}