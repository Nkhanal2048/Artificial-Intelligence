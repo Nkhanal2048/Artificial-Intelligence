{
  "cells": [
    {
      "cell_type": "markdown",
      "metadata": {
        "id": "4k8xNZOM7Q_Y"
      },
      "source": [
        "<a href=\"https://colab.research.google.com/github/profmcnich/example_notebook/blob/main/a3_sample_notebook.ipynb\" target=\"_parent\"><img src=\"https://colab.research.google.com/assets/colab-badge.svg\" alt=\"Open In Colab\"/></a>\n",
        "\n",
        "\\(\\^Be sure to update this button to point to your notebook instead of the sample notebook\\)"
      ]
    },
    {
      "cell_type": "markdown",
      "metadata": {},
      "source": []
    },
    {
      "cell_type": "code",
      "execution_count": null,
      "metadata": {},
      "outputs": [],
      "source": []
    },
    {
      "cell_type": "markdown",
      "metadata": {
        "id": "eH3Qd5aXGWas"
      },
      "source": [
        "Import section:"
      ]
    },
    {
      "cell_type": "code",
      "execution_count": 8,
      "metadata": {
        "id": "EJNKNT8J7Q_c"
      },
      "outputs": [],
      "source": [
        "\n",
        "import pandas as pd\n",
        "import numpy as np\n",
        "import matplotlib.pyplot as plt\n",
        "from sklearn.linear_model import LinearRegression\n",
        "from sklearn.model_selection import train_test_split, cross_val_score\n",
        "from sklearn import linear_model\n",
        "from sklearn.preprocessing import PolynomialFeatures\n"
      ]
    },
    {
      "cell_type": "markdown",
      "metadata": {
        "id": "BgHMpUvN7Q_d"
      },
      "source": [
        "## Part 1. Loading the dataset"
      ]
    },
    {
      "cell_type": "code",
      "execution_count": null,
      "metadata": {
        "id": "V1ez7d1BG5gN"
      },
      "outputs": [],
      "source": [
        "dataset = pd.read_csv(\"science_data_large.csv\") \n",
        "print(dataset)"
      ]
    },
    {
      "cell_type": "markdown",
      "metadata": {
        "id": "YEorhS9rEEPD"
      },
      "source": [
        "Output the first 15 rows of the data"
      ]
    },
    {
      "cell_type": "code",
      "execution_count": null,
      "metadata": {
        "id": "DsHXovPOEFgI"
      },
      "outputs": [],
      "source": [
        "dataset.head(15)\n"
      ]
    },
    {
      "cell_type": "markdown",
      "metadata": {
        "id": "gsE03gN0EM_D"
      },
      "source": [
        "Display a summary of the table information (number of datapoints, etc.)\n"
      ]
    },
    {
      "cell_type": "code",
      "execution_count": null,
      "metadata": {
        "id": "ClOCPdKYEdfM"
      },
      "outputs": [],
      "source": [
        "print(\"summary of dataset \\n\", dataset.info())"
      ]
    },
    {
      "cell_type": "markdown",
      "metadata": {
        "id": "UmkqVlIW7Q_f"
      },
      "source": [
        "## Part 2. Splitting the dataset"
      ]
    },
    {
      "cell_type": "markdown",
      "metadata": {
        "id": "3tMFLiunAGRc"
      },
      "source": [
        "take the dataset and splitting into x and y data splitting \n"
      ]
    },
    {
      "cell_type": "code",
      "execution_count": null,
      "metadata": {
        "id": "GNcltPfLAOEe"
      },
      "outputs": [],
      "source": [
        "X = dataset[[\"Temperature °C\", \"Mols KCL\"]].to_numpy() \n",
        "Y = dataset[\"Size nm^3\"].to_numpy()\n"
      ]
    },
    {
      "cell_type": "markdown",
      "metadata": {
        "id": "Go2s7FXrAWSc"
      },
      "source": [
        "using sklearn to split the features and labels into a training/test set."
      ]
    },
    {
      "cell_type": "code",
      "execution_count": null,
      "metadata": {
        "id": "CpjHU-mNAd7q"
      },
      "outputs": [],
      "source": [
        "X_train, X_test, Y_train, Y_test = train_test_split(X, Y, train_size = .90, random_state = 0)\n"
      ]
    },
    {
      "cell_type": "markdown",
      "metadata": {
        "id": "LmEGQH6i7Q_f"
      },
      "source": [
        "## Part 3. Perform a Linear Regression"
      ]
    },
    {
      "cell_type": "markdown",
      "metadata": {
        "id": "KllUVTKl-Ghz"
      },
      "source": [
        "Use sklearn to train a model on the training set"
      ]
    },
    {
      "cell_type": "code",
      "execution_count": null,
      "metadata": {
        "id": "CHEDWlKt-IaX"
      },
      "outputs": [],
      "source": [
        "reg = linear_model.LinearRegression()\n",
        "reg.fit(X_train, Y_train)\n"
      ]
    },
    {
      "cell_type": "markdown",
      "metadata": {
        "id": "84zpFA6M-max"
      },
      "source": [
        "create a sample datapoint and predict the output of that sample with the trained model"
      ]
    },
    {
      "cell_type": "code",
      "execution_count": null,
      "metadata": {
        "id": "mI_AK1-Z-uMO"
      },
      "outputs": [],
      "source": [
        "print(f\"prediction: {reg.predict(X_test)}\")"
      ]
    },
    {
      "cell_type": "markdown",
      "metadata": {
        "id": "ixBS_YJB-0Wu"
      },
      "source": [
        "Report on the score for that mnodel in your own words(markdown, not code) explain what the score means. "
      ]
    },
    {
      "cell_type": "code",
      "execution_count": null,
      "metadata": {
        "id": "olx3S_zH_Mw_"
      },
      "outputs": [],
      "source": [
        "print(f\"score: {reg.score(X_train, Y_train)}\")"
      ]
    },
    {
      "cell_type": "markdown",
      "metadata": {
        "id": "SsBcp6_L_Vy0"
      },
      "source": [
        "extract the coefficient and intercept from the model and write an equation for your h(x) using LaTex."
      ]
    },
    {
      "cell_type": "code",
      "execution_count": null,
      "metadata": {
        "id": "2ZdokWz1_ZhG"
      },
      "outputs": [],
      "source": [
        "print(f\"coefficient: {reg.coef_}\")\n",
        "print(f\"intercept: {reg.intercept_}\")\n",
        "\n"
      ]
    },
    {
      "cell_type": "markdown",
      "metadata": {
        "id": "UTNaMPEV7Q_h"
      },
      "source": [
        "Sample equation: $E = mc^2$"
      ]
    },
    {
      "cell_type": "markdown",
      "metadata": {
        "id": "FIvhiNpi7Q_h"
      },
      "source": [
        "## Part 4. Use Cross Validation"
      ]
    },
    {
      "cell_type": "markdown",
      "metadata": {
        "id": "vsYiE6PoA0BC"
      },
      "source": [
        "Use the cross_val_score function to repeat your experiment across many shuffles of the data\n"
      ]
    },
    {
      "cell_type": "code",
      "execution_count": null,
      "metadata": {
        "id": "bVfjz5cUA9rj"
      },
      "outputs": [],
      "source": [
        "scores = cross_val_score(reg, X_train, Y_train, cv = 100)\n",
        "print(\"%0.2f accuracy with a standard deviation of %0.2f\"% (scores.mean(), scores.std()))\n"
      ]
    },
    {
      "cell_type": "markdown",
      "metadata": {
        "id": "uYBl-DEwBOn4"
      },
      "source": [
        "Report on their finding and their significance"
      ]
    },
    {
      "cell_type": "markdown",
      "metadata": {
        "id": "2uV_6l6o7Q_i"
      },
      "source": [
        "## Part 5. Using Polynomial Regression"
      ]
    },
    {
      "cell_type": "markdown",
      "metadata": {
        "id": "QmHbBggaBpZG"
      },
      "source": [
        "Using the PolynomialFeatures library perform another regression on an augmented dataset of degree 2\n"
      ]
    },
    {
      "cell_type": "code",
      "execution_count": null,
      "metadata": {
        "id": "hPKWpC92BqgY"
      },
      "outputs": [],
      "source": [
        "poly = PolynomialFeatures(2)\n",
        "X_train = poly.fit_transform(X_train)\n",
        "X_test = poly.fit_transform(X_test)\n",
        "model = linear_model.LinearRegression()\n",
        "model.fit(X_train, Y_train)\n",
        "print(f\"score:{model.score(X_train, Y_train)}\")\n",
        "print(f\"coefficient:{model.coef_}\")\n",
        "print(f\"intercept:{model.intercept_}\")"
      ]
    },
    {
      "cell_type": "markdown",
      "metadata": {
        "id": "P8YLkikfB4m2"
      },
      "source": [
        "report on the matrices and output the resultant equation as you did in part 3."
      ]
    },
    {
      "cell_type": "code",
      "execution_count": null,
      "metadata": {
        "id": "SV5PZ3oWC7aR"
      },
      "outputs": [],
      "source": [
        "print(f\"predict:{model.predict(X_test)}\")"
      ]
    },
    {
      "cell_type": "markdown",
      "metadata": {
        "id": "IO8HdQa2DAuV"
      },
      "source": [
        "From the above output, we can say if we use the polynomial regression, our score increases to 100%, which shows that we have polynomial type of distribution.\n",
        "it was done by 1st converting the polunomial equation to linear equation.\n",
        "the general form of the equation is: \n",
        " Y = x0 + b1 * x1 + b2 * (x2)^2 +b3 * (x3)^3 +……..+bn * (xn)^n\n"
      ]
    }
  ],
  "metadata": {
    "colab": {
      "name": "a3_sample_notebook.ipynb",
      "provenance": []
    },
    "kernelspec": {
      "display_name": "Python 3",
      "language": "python",
      "name": "python3"
    },
    "language_info": {
      "codemirror_mode": {
        "name": "ipython",
        "version": 3
      },
      "file_extension": ".py",
      "mimetype": "text/x-python",
      "name": "python",
      "nbconvert_exporter": "python",
      "pygments_lexer": "ipython3",
      "version": "3.7.4"
    }
  },
  "nbformat": 4,
  "nbformat_minor": 0
}
