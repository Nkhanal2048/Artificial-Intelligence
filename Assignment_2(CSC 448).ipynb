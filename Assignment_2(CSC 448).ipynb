{
 "cells": [
  {
   "cell_type": "code",
   "execution_count": 6,
   "metadata": {},
   "outputs": [
    {
     "name": "stdout",
     "output_type": "stream",
     "text": [
      "Enter the value of (x1,y1) with space between them:4 3\n",
      "Enter the value of (x2,y2) with space between them: 1 2\n",
      "Enter the value of (x3,y3) with space between them: 2 1\n",
      "The triangle is a right angle triangle\n",
      "The triangle is not an equilateral triangle.\n"
     ]
    }
   ],
   "source": [
    "#Assignment_2(Artificial intelligence)\n",
    "\n",
    "#QUESTION: \n",
    "#Write a python code to check the triangle is whether right angle or equatorial by taking 3 points of a triangle as input.\n",
    "\n",
    "\n",
    "# In this problem, \n",
    "# Firstly, I will find the length of sides of a triangle by using disatnce formula from user's point.\n",
    "# since, I have two parts. So,the sides of a length will be a1,b1,c1 for right angle triangle\n",
    "# and a2,b2,c2 for equatorial triangle.\n",
    "# secondly, I will check either the triangle is right angle or equatorial triangle.\n",
    "# if sum of squares of two sides of a triangle is equal to square of 3rd side, \n",
    "# I will conclude that the triangle is equatorial triangle.\n",
    "# and if all 3 sides are equal in length,I will conclude the triangle will be right angle triangle.\n",
    "\n",
    " \n",
    "# criteria of a right angle triangle:\n",
    "# sum of squares of any two sides of a triangle is equal to square of third side.\n",
    "\n",
    "#python code to check right angle triangle:\n",
    "import math\n",
    "def rightangle_triangle(x1,x2,x3,y1,y2,y3):\n",
    "    a1= math.sqrt((x1-x3)*(x1-x3)+(y1-y3)*(y1-y3))\n",
    "    b1= math.sqrt((x2-x3)*(x2-x3)+(y2-y3)*(y2-y3))\n",
    "    c1= math.sqrt((x1-x2)*(x1-x2)+(y1-y2)*(y1-y2))\n",
    "    \n",
    "    if (a1*a1+b1*b1==c1*c1) or(a1*a1+c1*c1==b1*b1) or (c1*c1+b1*b1==a1*a1):\n",
    "        print(\"The triangle is a right angle triangle\")\n",
    "    else:\n",
    "        print(\"The triangle is not a right angle triangle\")\n",
    "        \n",
    "        \n",
    "  \n",
    "\n",
    "#criteria of an equatorial triangle:\n",
    "#the length of all sides are equal of a triangle.\n",
    "\n",
    "\n",
    "#python code to check equilateral triangle:\n",
    "def equilateral_triangle(x1,x2,x3,y1,y2,y3):\n",
    "    a2= round(math.sqrt((x1-x3)*(x1-x3)+(y1-y3)*(y1-y3)))\n",
    "    b2= round(math.sqrt((x2-x3)*(x2-x3)+(y2-y3)*(y2-y3)))\n",
    "    c2= round(math.sqrt((x1-x2)*(x1-x2)+(y1-y2)*(y1-y2)))\n",
    "    \n",
    "    if(a2==b2==c2):\n",
    "        print(\"The triangle is an equilateral triangle.\")\n",
    "    else:\n",
    "        print(\"The triangle is not an equilateral triangle.\")\n",
    "\n",
    "#get the points from user of a triangle\n",
    "x1,y1=input(\"Enter the value of (x1,y1) with space between them:\").split()\n",
    "x2,y2=input(\"Enter the value of (x2,y2) with space between them: \").split()\n",
    "x3,y3=input(\"Enter the value of (x3,y3) with space between them: \").split()\n",
    "\n",
    "# calling functions and passing the points as parameters\n",
    "rightangle_triangle(float(x1),float(x2),float(x3),float(y1),float(y2),float(y3))\n",
    "equilateral_triangle(float(x1),float(x2),float(x3),float(y1),float(y2),float(y3))\n",
    "\n",
    "#check:\n",
    "#(x1, y1) = 4 3\n",
    "#(x2, y2) = 1 2\n",
    "#(x3, y3) = 2 1 \n",
    "\n"
   ]
  },
  {
   "cell_type": "code",
   "execution_count": null,
   "metadata": {},
   "outputs": [],
   "source": []
  }
 ],
 "metadata": {
  "kernelspec": {
   "display_name": "Python 3",
   "language": "python",
   "name": "python3"
  },
  "language_info": {
   "codemirror_mode": {
    "name": "ipython",
    "version": 3
   },
   "file_extension": ".py",
   "mimetype": "text/x-python",
   "name": "python",
   "nbconvert_exporter": "python",
   "pygments_lexer": "ipython3",
   "version": "3.7.4"
  }
 },
 "nbformat": 4,
 "nbformat_minor": 2
}
